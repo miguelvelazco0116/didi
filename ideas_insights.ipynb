{
 "cells": [
  {
   "cell_type": "markdown",
   "id": "66467ed2",
   "metadata": {},
   "source": [
    "**Based on the data and your ideas, plan strategies to double the total restaurant visitors\n",
    "in six months.**"
   ]
  },
  {
   "cell_type": "markdown",
   "id": "7197bac2",
   "metadata": {},
   "source": [
    "- packages"
   ]
  },
  {
   "cell_type": "code",
   "execution_count": 1,
   "id": "99765f62",
   "metadata": {},
   "outputs": [],
   "source": [
    "# data\n",
    "# ==============================================================================\n",
    "import numpy as np\n",
    "import pandas as pd\n",
    "import yaml, requests, re, string, random, psycopg2\n",
    "\n",
    "# plot pretty figures\n",
    "# ==============================================================================\n",
    "import matplotlib.pyplot as plt\n",
    "import seaborn as sns\n",
    "%matplotlib inline\n",
    "plt.style.use('seaborn-v0_8-darkgrid')\n",
    "\n",
    "# Configuración warnings\n",
    "# ==============================================================================\n",
    "import warnings\n",
    "warnings.filterwarnings('once')"
   ]
  },
  {
   "cell_type": "markdown",
   "id": "b49660cf",
   "metadata": {},
   "source": [
    "- functions"
   ]
  },
  {
   "cell_type": "code",
   "execution_count": 2,
   "id": "06588b21",
   "metadata": {},
   "outputs": [],
   "source": [
    "def read_yaml_file(yaml_file):\n",
    "    \"\"\" load yaml cofigurations \"\"\"\n",
    "\n",
    "    config = None\n",
    "    try:\n",
    "        with open(yaml_file, 'r') as f:\n",
    "            config = yaml.safe_load(f)\n",
    "    except:\n",
    "        raise FileNotFoundError('Couldnt load the file')\n",
    "\n",
    "    return config\n",
    "\n",
    "\n",
    "def get_db_conn_post(creds_file):\n",
    "    \"\"\" Get an authenticated psycopg db connection, given a credentials file\"\"\"\n",
    "    creds = read_yaml_file(creds_file)['db']\n",
    "\n",
    "    connection = psycopg2.connect(\n",
    "        user=creds['user'],\n",
    "        password=creds['pass'],\n",
    "        host=creds['host'],\n",
    "        port=creds['port'],\n",
    "        database=creds['db']\n",
    "    )\n",
    "\n",
    "    return connection"
   ]
  },
  {
   "cell_type": "markdown",
   "id": "fe4e8a9c",
   "metadata": {},
   "source": [
    "- all the data was uploaded into a database an the next lines are to get the info"
   ]
  },
  {
   "cell_type": "code",
   "execution_count": null,
   "id": "4449b54c",
   "metadata": {},
   "outputs": [],
   "source": [
    "db_conn_post = get_db_conn_post(\"key_postgresql.yaml\")"
   ]
  },
  {
   "cell_type": "code",
   "execution_count": 4,
   "id": "11110976",
   "metadata": {},
   "outputs": [],
   "source": [
    "q = \"\"\"\n",
    "    select \n",
    "            *\n",
    "    from\n",
    "            kaggle_data.didi.restaurants_visitors;      \n",
    "\"\"\""
   ]
  },
  {
   "cell_type": "code",
   "execution_count": 5,
   "id": "17c1754c",
   "metadata": {},
   "outputs": [
    {
     "name": "stderr",
     "output_type": "stream",
     "text": [
      "C:\\Users\\migue\\AppData\\Local\\Temp/ipykernel_13172/2654062988.py:1: UserWarning: pandas only supports SQLAlchemy connectable (engine/connection) or database string URI or sqlite3 DBAPI2 connection. Other DBAPI2 objects are not tested. Please consider using SQLAlchemy.\n",
      "  df_raw = pd.read_sql(sql = q, con = db_conn_post)\n"
     ]
    }
   ],
   "source": [
    "df_raw = pd.read_sql(sql = q, con = db_conn_post)"
   ]
  },
  {
   "cell_type": "code",
   "execution_count": 6,
   "id": "77ade3f9",
   "metadata": {},
   "outputs": [],
   "source": [
    "df_raw['day_of_week'] = df_raw['visit_date'].dt.day_name()"
   ]
  },
  {
   "cell_type": "code",
   "execution_count": 7,
   "id": "826eee2a",
   "metadata": {},
   "outputs": [
    {
     "data": {
      "text/html": [
       "<div>\n",
       "<style scoped>\n",
       "    .dataframe tbody tr th:only-of-type {\n",
       "        vertical-align: middle;\n",
       "    }\n",
       "\n",
       "    .dataframe tbody tr th {\n",
       "        vertical-align: top;\n",
       "    }\n",
       "\n",
       "    .dataframe thead th {\n",
       "        text-align: right;\n",
       "    }\n",
       "</style>\n",
       "<table border=\"1\" class=\"dataframe\">\n",
       "  <thead>\n",
       "    <tr style=\"text-align: right;\">\n",
       "      <th></th>\n",
       "      <th>id</th>\n",
       "      <th>visit_date</th>\n",
       "      <th>visit_datetime</th>\n",
       "      <th>reserve_datetime</th>\n",
       "      <th>reserve_visitors</th>\n",
       "      <th>day_of_week</th>\n",
       "    </tr>\n",
       "  </thead>\n",
       "  <tbody>\n",
       "    <tr>\n",
       "      <th>0</th>\n",
       "      <td>db80363d35f10926</td>\n",
       "      <td>2016-01-01</td>\n",
       "      <td>2016-01-01</td>\n",
       "      <td>2016-01-01 01:00:00</td>\n",
       "      <td>5</td>\n",
       "      <td>Friday</td>\n",
       "    </tr>\n",
       "  </tbody>\n",
       "</table>\n",
       "</div>"
      ],
      "text/plain": [
       "                 id visit_date visit_datetime    reserve_datetime  \\\n",
       "0  db80363d35f10926 2016-01-01     2016-01-01 2016-01-01 01:00:00   \n",
       "\n",
       "   reserve_visitors day_of_week  \n",
       "0                 5      Friday  "
      ]
     },
     "execution_count": 7,
     "metadata": {},
     "output_type": "execute_result"
    }
   ],
   "source": [
    "df_raw.head(1)"
   ]
  },
  {
   "cell_type": "code",
   "execution_count": 8,
   "id": "3d50a7b8",
   "metadata": {},
   "outputs": [],
   "source": [
    "df = df_raw.copy()"
   ]
  },
  {
   "cell_type": "code",
   "execution_count": 9,
   "id": "aeb209e9",
   "metadata": {},
   "outputs": [],
   "source": [
    "df.set_index('visit_date', inplace = True)"
   ]
  },
  {
   "cell_type": "code",
   "execution_count": 10,
   "id": "7b191757",
   "metadata": {},
   "outputs": [
    {
     "name": "stderr",
     "output_type": "stream",
     "text": [
      "C:\\Users\\migue\\AppData\\Local\\Temp/ipykernel_13172/1404007749.py:1: FutureWarning: The default value of numeric_only in DataFrameGroupBy.sum is deprecated. In a future version, numeric_only will default to False. Either specify numeric_only or select only columns which should be valid for the function.\n",
      "  df = df.resample('D').sum()\n"
     ]
    }
   ],
   "source": [
    "df = df.resample('D').sum()"
   ]
  },
  {
   "cell_type": "markdown",
   "id": "f182be7d",
   "metadata": {},
   "source": [
    "*The chart clearly illustrates a significant increase in visitor numbers towards the end of the year and during March. It is important to note, however, that this sudden surge in visitor growth during the year-end period may appear unusual and warrants further investigation.*"
   ]
  },
  {
   "cell_type": "code",
   "execution_count": 11,
   "id": "4a181e79",
   "metadata": {},
   "outputs": [
    {
     "data": {
      "image/png": "[encoded data removed]",
      "text/plain": [
       "<Figure size 1296x360 with 1 Axes>"
      ]
     },
     "metadata": {},
     "output_type": "display_data"
    }
   ],
   "source": [
    "fig, ax = plt.subplots(figsize=(18, 5))\n",
    "df['month'] = df.index.month\n",
    "df.boxplot(column='reserve_visitors', by='month', ax=ax,)\n",
    "df.groupby('month')['reserve_visitors'].median().plot(style='o-', linewidth=0.8, ax=ax)\n",
    "ax.set_ylabel('visitors')\n",
    "ax.set_title('visitors by month')\n",
    "fig.suptitle('');"
   ]
  },
  {
   "cell_type": "markdown",
   "id": "f598df61",
   "metadata": {},
   "source": [
    "*The days that hold the greatest significance are the 5th and 6th, as they conveniently align with the weekend. Implementing a promotional campaign during these days could effectively boost visitor numbers and further enhance the overall turnout.*"
   ]
  },
  {
   "cell_type": "code",
   "execution_count": 12,
   "id": "bf45fb35",
   "metadata": {},
   "outputs": [
    {
     "data": {
      "image/png": "[encoded data removed]",
      "text/plain": [
       "<Figure size 1296x360 with 1 Axes>"
      ]
     },
     "metadata": {},
     "output_type": "display_data"
    }
   ],
   "source": [
    "fig, ax = plt.subplots(figsize=(18, 5))\n",
    "df['week_day'] = df.index.day_of_week + 1\n",
    "df.boxplot(column='reserve_visitors', by='week_day', ax=ax)\n",
    "df.groupby('week_day')['reserve_visitors'].median().plot(style='o-', linewidth=0.8, ax=ax)\n",
    "ax.set_ylabel('visitors')\n",
    "ax.set_title('visitors by day of the week')\n",
    "fig.suptitle('');"
   ]
  },
  {
   "cell_type": "code",
   "execution_count": 13,
   "id": "016f03f0",
   "metadata": {},
   "outputs": [],
   "source": [
    "q = \"\"\"\n",
    "    select \n",
    "            *\n",
    "    from\n",
    "            kaggle_data.didi.date_info;      \n",
    "\"\"\""
   ]
  },
  {
   "cell_type": "code",
   "execution_count": 14,
   "id": "4a90a550",
   "metadata": {},
   "outputs": [
    {
     "name": "stderr",
     "output_type": "stream",
     "text": [
      "C:\\Users\\migue\\AppData\\Local\\Temp/ipykernel_13172/324960418.py:1: UserWarning: pandas only supports SQLAlchemy connectable (engine/connection) or database string URI or sqlite3 DBAPI2 connection. Other DBAPI2 objects are not tested. Please consider using SQLAlchemy.\n",
      "  df_date_info = pd.read_sql(sql = q, con = db_conn_post)\n"
     ]
    }
   ],
   "source": [
    "df_date_info = pd.read_sql(sql = q, con = db_conn_post)"
   ]
  },
  {
   "cell_type": "code",
   "execution_count": 15,
   "id": "65c672ab",
   "metadata": {},
   "outputs": [
    {
     "data": {
      "text/html": [
       "<div>\n",
       "<style scoped>\n",
       "    .dataframe tbody tr th:only-of-type {\n",
       "        vertical-align: middle;\n",
       "    }\n",
       "\n",
       "    .dataframe tbody tr th {\n",
       "        vertical-align: top;\n",
       "    }\n",
       "\n",
       "    .dataframe thead th {\n",
       "        text-align: right;\n",
       "    }\n",
       "</style>\n",
       "<table border=\"1\" class=\"dataframe\">\n",
       "  <thead>\n",
       "    <tr style=\"text-align: right;\">\n",
       "      <th></th>\n",
       "      <th>id</th>\n",
       "      <th>visit_date</th>\n",
       "      <th>visit_datetime</th>\n",
       "      <th>reserve_datetime</th>\n",
       "      <th>reserve_visitors</th>\n",
       "      <th>day_of_week</th>\n",
       "    </tr>\n",
       "  </thead>\n",
       "  <tbody>\n",
       "    <tr>\n",
       "      <th>0</th>\n",
       "      <td>db80363d35f10926</td>\n",
       "      <td>2016-01-01</td>\n",
       "      <td>2016-01-01</td>\n",
       "      <td>2016-01-01 01:00:00</td>\n",
       "      <td>5</td>\n",
       "      <td>Friday</td>\n",
       "    </tr>\n",
       "  </tbody>\n",
       "</table>\n",
       "</div>"
      ],
      "text/plain": [
       "                 id visit_date visit_datetime    reserve_datetime  \\\n",
       "0  db80363d35f10926 2016-01-01     2016-01-01 2016-01-01 01:00:00   \n",
       "\n",
       "   reserve_visitors day_of_week  \n",
       "0                 5      Friday  "
      ]
     },
     "execution_count": 15,
     "metadata": {},
     "output_type": "execute_result"
    }
   ],
   "source": [
    "df_raw.head(1)"
   ]
  },
  {
   "cell_type": "code",
   "execution_count": 16,
   "id": "0a3c6e07",
   "metadata": {},
   "outputs": [
    {
     "data": {
      "text/html": [
       "<div>\n",
       "<style scoped>\n",
       "    .dataframe tbody tr th:only-of-type {\n",
       "        vertical-align: middle;\n",
       "    }\n",
       "\n",
       "    .dataframe tbody tr th {\n",
       "        vertical-align: top;\n",
       "    }\n",
       "\n",
       "    .dataframe thead th {\n",
       "        text-align: right;\n",
       "    }\n",
       "</style>\n",
       "<table border=\"1\" class=\"dataframe\">\n",
       "  <thead>\n",
       "    <tr style=\"text-align: right;\">\n",
       "      <th></th>\n",
       "      <th>calendar_date</th>\n",
       "      <th>day_of_week</th>\n",
       "      <th>holiday_flg</th>\n",
       "    </tr>\n",
       "  </thead>\n",
       "  <tbody>\n",
       "    <tr>\n",
       "      <th>0</th>\n",
       "      <td>2016-01-01</td>\n",
       "      <td>Friday</td>\n",
       "      <td>1</td>\n",
       "    </tr>\n",
       "  </tbody>\n",
       "</table>\n",
       "</div>"
      ],
      "text/plain": [
       "  calendar_date day_of_week  holiday_flg\n",
       "0    2016-01-01      Friday            1"
      ]
     },
     "execution_count": 16,
     "metadata": {},
     "output_type": "execute_result"
    }
   ],
   "source": [
    "df_date_info.head(1)"
   ]
  },
  {
   "cell_type": "code",
   "execution_count": 17,
   "id": "ab76071c",
   "metadata": {},
   "outputs": [],
   "source": [
    "df_h = df_raw.merge(df_date_info, left_on = 'visit_date', right_on = 'calendar_date')"
   ]
  },
  {
   "cell_type": "code",
   "execution_count": 18,
   "id": "07b91a47",
   "metadata": {},
   "outputs": [
    {
     "data": {
      "text/html": [
       "<div>\n",
       "<style scoped>\n",
       "    .dataframe tbody tr th:only-of-type {\n",
       "        vertical-align: middle;\n",
       "    }\n",
       "\n",
       "    .dataframe tbody tr th {\n",
       "        vertical-align: top;\n",
       "    }\n",
       "\n",
       "    .dataframe thead th {\n",
       "        text-align: right;\n",
       "    }\n",
       "</style>\n",
       "<table border=\"1\" class=\"dataframe\">\n",
       "  <thead>\n",
       "    <tr style=\"text-align: right;\">\n",
       "      <th></th>\n",
       "      <th>id</th>\n",
       "      <th>visit_date</th>\n",
       "      <th>visit_datetime</th>\n",
       "      <th>reserve_datetime</th>\n",
       "      <th>reserve_visitors</th>\n",
       "      <th>day_of_week_x</th>\n",
       "      <th>calendar_date</th>\n",
       "      <th>day_of_week_y</th>\n",
       "      <th>holiday_flg</th>\n",
       "    </tr>\n",
       "  </thead>\n",
       "  <tbody>\n",
       "    <tr>\n",
       "      <th>0</th>\n",
       "      <td>db80363d35f10926</td>\n",
       "      <td>2016-01-01</td>\n",
       "      <td>2016-01-01</td>\n",
       "      <td>2016-01-01 01:00:00</td>\n",
       "      <td>5</td>\n",
       "      <td>Friday</td>\n",
       "      <td>2016-01-01</td>\n",
       "      <td>Friday</td>\n",
       "      <td>1</td>\n",
       "    </tr>\n",
       "  </tbody>\n",
       "</table>\n",
       "</div>"
      ],
      "text/plain": [
       "                 id visit_date visit_datetime    reserve_datetime  \\\n",
       "0  db80363d35f10926 2016-01-01     2016-01-01 2016-01-01 01:00:00   \n",
       "\n",
       "   reserve_visitors day_of_week_x calendar_date day_of_week_y  holiday_flg  \n",
       "0                 5        Friday    2016-01-01        Friday            1  "
      ]
     },
     "execution_count": 18,
     "metadata": {},
     "output_type": "execute_result"
    }
   ],
   "source": [
    "df_h.head(1)"
   ]
  },
  {
   "cell_type": "code",
   "execution_count": 19,
   "id": "bb3f4714",
   "metadata": {},
   "outputs": [],
   "source": [
    "df_h.drop(columns = ['day_of_week_y', 'calendar_date'], inplace = True)"
   ]
  },
  {
   "cell_type": "code",
   "execution_count": 20,
   "id": "4326cf50",
   "metadata": {},
   "outputs": [],
   "source": [
    "df_h.rename(columns = {'day_of_week_y':'day_of_week'}, inplace = True)"
   ]
  },
  {
   "cell_type": "code",
   "execution_count": 21,
   "id": "75f94e96",
   "metadata": {},
   "outputs": [
    {
     "data": {
      "text/html": [
       "<div>\n",
       "<style scoped>\n",
       "    .dataframe tbody tr th:only-of-type {\n",
       "        vertical-align: middle;\n",
       "    }\n",
       "\n",
       "    .dataframe tbody tr th {\n",
       "        vertical-align: top;\n",
       "    }\n",
       "\n",
       "    .dataframe thead th {\n",
       "        text-align: right;\n",
       "    }\n",
       "</style>\n",
       "<table border=\"1\" class=\"dataframe\">\n",
       "  <thead>\n",
       "    <tr style=\"text-align: right;\">\n",
       "      <th></th>\n",
       "      <th>id</th>\n",
       "      <th>visit_date</th>\n",
       "      <th>visit_datetime</th>\n",
       "      <th>reserve_datetime</th>\n",
       "      <th>reserve_visitors</th>\n",
       "      <th>day_of_week_x</th>\n",
       "      <th>holiday_flg</th>\n",
       "    </tr>\n",
       "  </thead>\n",
       "  <tbody>\n",
       "    <tr>\n",
       "      <th>0</th>\n",
       "      <td>db80363d35f10926</td>\n",
       "      <td>2016-01-01</td>\n",
       "      <td>2016-01-01</td>\n",
       "      <td>2016-01-01 01:00:00</td>\n",
       "      <td>5</td>\n",
       "      <td>Friday</td>\n",
       "      <td>1</td>\n",
       "    </tr>\n",
       "  </tbody>\n",
       "</table>\n",
       "</div>"
      ],
      "text/plain": [
       "                 id visit_date visit_datetime    reserve_datetime  \\\n",
       "0  db80363d35f10926 2016-01-01     2016-01-01 2016-01-01 01:00:00   \n",
       "\n",
       "   reserve_visitors day_of_week_x  holiday_flg  \n",
       "0                 5        Friday            1  "
      ]
     },
     "execution_count": 21,
     "metadata": {},
     "output_type": "execute_result"
    }
   ],
   "source": [
    "df_h.head(1)"
   ]
  },
  {
   "cell_type": "code",
   "execution_count": 22,
   "id": "9e09101a",
   "metadata": {},
   "outputs": [],
   "source": [
    "df_h = df_h[['visit_date','reserve_visitors', 'holiday_flg']].groupby(by = ['visit_date', 'holiday_flg'], as_index = False).sum()"
   ]
  },
  {
   "cell_type": "code",
   "execution_count": 23,
   "id": "1d7db2ad",
   "metadata": {},
   "outputs": [],
   "source": [
    "df_h.drop(columns = ['visit_date'], inplace = True)"
   ]
  },
  {
   "cell_type": "code",
   "execution_count": 24,
   "id": "d63afc02",
   "metadata": {},
   "outputs": [],
   "source": [
    "df_h['holiday_flg'] = df_h['holiday_flg'].astype('str')"
   ]
  },
  {
   "cell_type": "markdown",
   "id": "3f1a62b0",
   "metadata": {},
   "source": [
    "*The surge in visitors to restaurants during holidays is not a coincidence. However, to confirm this trend, a thorough analysis is required. By aligning marketing campaigns with holidays, we can strategically increase the number of visits to restaurants and capitalize on this pattern.*"
   ]
  },
  {
   "cell_type": "code",
   "execution_count": 25,
   "id": "a7d629d8",
   "metadata": {},
   "outputs": [
    {
     "data": {
      "image/png": "[encoded data removed]",
      "text/plain": [
       "<Figure size 1152x432 with 1 Axes>"
      ]
     },
     "metadata": {},
     "output_type": "display_data"
    }
   ],
   "source": [
    "fig, ax = plt.subplots(figsize=(16, 6))\n",
    "sns.violinplot(\n",
    "    x       = 'reserve_visitors',\n",
    "    y       = 'holiday_flg',\n",
    "    data    = df_h,\n",
    "    palette = 'tab10',\n",
    "    ax      = ax\n",
    ")\n",
    "ax.set_title('visitors by holiday days and not holiday days')\n",
    "ax.set_xlabel('visitors')\n",
    "ax.set_ylabel('holiday');"
   ]
  },
  {
   "cell_type": "code",
   "execution_count": 26,
   "id": "feb608cb",
   "metadata": {},
   "outputs": [],
   "source": [
    "df_h = df_h.groupby(by = ['holiday_flg'], as_index = False).sum()"
   ]
  },
  {
   "cell_type": "code",
   "execution_count": 27,
   "id": "d281e6f7",
   "metadata": {},
   "outputs": [
    {
     "data": {
      "image/png": "[encoded data removed]",
      "text/plain": [
       "<Figure size 1152x432 with 1 Axes>"
      ]
     },
     "metadata": {},
     "output_type": "display_data"
    }
   ],
   "source": [
    "fig, ax = plt.subplots(figsize=(16, 6))\n",
    "sns.barplot(x = 'holiday_flg', y = 'reserve_visitors', data = df_h)\n",
    "plt.show()"
   ]
  },
  {
   "cell_type": "code",
   "execution_count": 33,
   "id": "b13cd57f",
   "metadata": {},
   "outputs": [],
   "source": [
    "del df\n",
    "df = df_raw.copy()\n",
    "df['visit_hour'] = df_raw['visit_datetime'].dt.hour"
   ]
  },
  {
   "cell_type": "code",
   "execution_count": 37,
   "id": "ba94f592",
   "metadata": {},
   "outputs": [],
   "source": [
    "df_hour = df[['reserve_visitors', 'visit_hour']].groupby(by = 'visit_hour', as_index = False).sum()"
   ]
  },
  {
   "cell_type": "markdown",
   "id": "626b360c",
   "metadata": {},
   "source": [
    "*Based on the information provided by the chart, it is evident that there are specific hours during which the number of visitors is significantly higher. This suggests that visitors have a preference for dinners at the establishment. Capitalizing on this insight, a promotional offer targeted at friends and dinners could be highly effective in attracting more customers during those peak hours.*"
   ]
  },
  {
   "cell_type": "code",
   "execution_count": 38,
   "id": "00e22055",
   "metadata": {
    "scrolled": false
   },
   "outputs": [
    {
     "data": {
      "image/png": "[encoded data removed]",
      "text/plain": [
       "<Figure size 1152x432 with 1 Axes>"
      ]
     },
     "metadata": {},
     "output_type": "display_data"
    }
   ],
   "source": [
    "fig, ax = plt.subplots(figsize=(16, 6))\n",
    "sns.barplot(x = 'visit_hour', y = 'reserve_visitors', data = df_hour)\n",
    "plt.show()"
   ]
  },
  {
   "cell_type": "markdown",
   "id": "455469f5",
   "metadata": {},
   "source": [
    " **`conclusions`**<br><br>\n",
    "*In conclusion, based on the analysis of the data, we can observe that the end of the year and holidays result in increased visitors to restaurants. Additionally, weekends tend to be favorable for attracting more customers. Therefore, aligning marketing campaign strategies with these peak periods can be an effective way to further increase visitors to restaurants. By leveraging the holiday season and targeting weekends, restaurants can capitalize on the higher demand and attract more customers. Implementing targeted promotional offers, special menus, or themed events during these periods can be particularly effective in driving customer engagement and boosting restaurant visits. Overall, strategic alignment of campaign strategies with holiday seasons and weekends can have a positive impact on increasing visitors and enhancing the success of restaurants.*\n",
    "\n",
    "<br>\n",
    "\n",
    "*In terms of consumption patterns, there are two key factors to consider. Firstly, analyzing the peak hours when visitors frequent the restaurants provides valuable insights. Based on this data, we can strategically design promotions targeting dinner or group outings, which are the preferred times for customers. By tailoring our marketing efforts to these specific timeframes, we can effectively attract more customers during these periods.*\n",
    "\n",
    "*Secondly, implementing dynamic pricing strategies can be highly advantageous. Dynamic pricing allows us to adjust prices in real-time based on various factors such as demand, time of day, or special events. This approach enables us to attract price-conscious customers by offering competitive rates during slower periods while maximizing revenue during peak times. Furthermore, dynamic pricing allows for personalized pricing options, which can be tailored to individual customer preferences. By offering personalized prices, we can attract new clients who appreciate customized experiences and, in turn, enhance customer loyalty.*\n",
    "\n",
    "*In summary, by leveraging insights on consumption hours and implementing dynamic pricing strategies, we can optimize revenue generation and attract a broader customer base. Aligning promotional activities with peak hours and providing personalized pricing options will contribute to increasing customer loyalty and driving business growth.*"
   ]
  },
  {
   "cell_type": "markdown",
   "id": "09ec9f87",
   "metadata": {},
   "source": [
    "**Imagine that these restaurants are in your city (and not in Japan), what other data would you want to join in order of get more insights to increase the visitors**"
   ]
  },
  {
   "cell_type": "markdown",
   "id": "078b91ef",
   "metadata": {},
   "source": [
    "*In addition to analyzing consumption patterns and implementing effective marketing strategies, it is crucial to consider key economic factors that can impact the restaurant industry. These factors include:*\n",
    "\n",
    "*Confidence Index: The confidence index reflects the level of confidence that consumers have in the economy. A higher confidence index typically indicates a positive outlook, which can lead to increased consumption. Monitoring the confidence index enables us to gauge consumer sentiment and make informed decisions regarding pricing, promotions, and expansion plans.*\n",
    "\n",
    "*Inflation: Inflation can significantly influence consumer behavior and purchasing power. As inflation rises, the cost of goods and services increases, which may result in reduced consumption of certain items. It is important to closely monitor inflation trends and adjust pricing strategies accordingly to maintain competitiveness while considering the potential impact on customer spending habits.*\n",
    "\n",
    "*Interest Rates: Interest rates play a critical role in consumer borrowing and spending. Higher interest rates can lead to increased borrowing costs, particularly in credit card transactions. This can impact consumer discretionary spending, including visits to restaurants. Understanding the relationship between interest rates and consumer behavior allows us to anticipate potential fluctuations in customer demand and adjust our business strategies accordingly.*\n",
    "\n",
    "*In addition to analyzing consumption patterns and considering economic factors, it is essential to incorporate insights from reputable consulting firms such as Nielsen and Kantar. These firms provide valuable data and market research that can further enhance our understanding of the restaurant industry landscape.*\n",
    "\n",
    "*For instance, according to Kantar's research on consumer behavior in Mexico, it reveals some insightful findings. It highlights that only 25% of consumers are likely to visit cafeterias, indicating a decrease of 20% compared to previous years. Similarly, the research shows that 28% of consumers are inclined to dine out at restaurants, representing a 28% decrease.*"
   ]
  },
  {
   "cell_type": "markdown",
   "id": "64923527",
   "metadata": {},
   "source": [
    "<img src=\"kantar.png\" alt=\"kantar\" width=\"900\" height=\"700\">"
   ]
  },
  {
   "cell_type": "markdown",
   "id": "5c305a16",
   "metadata": {},
   "source": [
    "*Another thing to consider is the weather can indeed have a significant impact on restaurant visits. Factors such as heavy rain or extreme temperatures can influence people's dining preferences and behaviors. Here are some additional considerations related to weather and its impact on restaurant visits:*\n",
    "\n",
    "*Delivery and Takeout: Inclement weather, such as heavy rain, may discourage people from going out to eat. Instead, they might prefer to order food through delivery applications or opt for takeout options. Restaurants can take advantage of this trend by promoting their delivery services or offering special discounts for online orders.*\n",
    "\n",
    "*Seasonal Menus: Weather conditions can influence people's cravings and preferences for certain types of food. For example, during colder or rainy seasons, customers may be more inclined to choose warm and comforting dishes like soups, stews, or hot beverages. Restaurants can adjust their menus accordingly and feature seasonal items that cater to these preferences.*\n",
    "\n",
    "*Indoor vs. Outdoor Seating: Extreme weather conditions, such as heavy rain or extremely hot temperatures, can impact the demand for outdoor seating areas. Restaurants with outdoor spaces may experience lower customer turnout during unfavorable weather conditions, while indoor seating areas may become more popular. Flexibility in providing comfortable seating options, such as heaters or shade, can help attract customers regardless of the weather.*\n",
    "\n",
    "*Promotions and Specials: Restaurants can leverage weather conditions as part of their marketing strategies. For example, offering promotions on rainy days or during low temperatures, such as discounted prices on warm soups or beverages, can entice customers to visit or order from the restaurant. Weather-specific promotions can help drive traffic during slower periods.*\n",
    "\n",
    "*In `conclusion`, to further enhance our analysis and decision-making process, it is important to consider various factors that influence the business environment. This includes taking into account the prevailing economic conditions, insights from the market, and even weather conditions.*\n",
    "\n",
    "*Examining the economic environment allows us to gauge the overall health of the economy and identify any potential impacts on consumer spending patterns. Factors such as the confidence index, inflation rates, and interest rates can provide valuable insights into consumer behavior and help us anticipate any shifts in consumption trends.*\n",
    "\n",
    "*Additionally, incorporating insights from the market, including data and research from reputable firms, allows us to understand the broader industry landscape. This information can provide valuable insights into consumer preferences, market trends, and competitive dynamics, enabling us to make informed decisions and develop effective strategies.*\n",
    "\n",
    "*Lastly, considering weather conditions is crucial, especially for businesses in the hospitality industry. Weather can significantly influence consumer behavior, particularly when it comes to dining out or visiting recreational establishments. By understanding how weather patterns affect consumer preferences and behavior, we can tailor our marketing efforts and operational strategies accordingly.*\n",
    "\n",
    "*By integrating these elements into our business analysis, we gain a more comprehensive and holistic view of the factors impacting our industry. This knowledge empowers us to make well-informed decisions, adapt our strategies to changing market conditions, and ultimately drive business success in a dynamic and competitive environment.*"
   ]
  },
  {
   "cell_type": "markdown",
   "id": "972406bb",
   "metadata": {},
   "source": [
    "**How many channels can you think of downloading a DiDi Rides APP and how will you \n",
    "estimate the quality and cost of each channel?**"
   ]
  },
  {
   "cell_type": "markdown",
   "id": "edb463b4",
   "metadata": {},
   "source": [
    "- Channels to download DiDi Ripes App\n",
    "  - Official app stores like Apple app store or Google Play\n",
    "  - Oficial website\n",
    "  - Social media platforms like Facebook, Instagram, Discord, etc.\n",
    "  - Parthner websites\n",
    "<br>\n",
    "- Quality, to measure the quality the next are some KPIs\n",
    "  - Downloads\n",
    "  - Installs\n",
    "  - User ratings and reviews\n",
    "  - Retention rate\n",
    "  - Active users\n",
    "  - Crashes and bugs\n",
    "  - App store ranking\n",
    "<br>\n",
    "- Cost, to measure the cost the next are some KPIs\n",
    "  - Marketings cost\n",
    "  - User acquisition cost\n",
    "  - Customer lifetime\n",
    "  - Cost per user (revenue per user)\n",
    "  - Cost efficiency"
   ]
  },
  {
   "cell_type": "markdown",
   "id": "bbfedfa3",
   "metadata": {},
   "source": [
    "**We want to build up a model to predict “Possible Churn Users” for DiDi Rides APP (e.g.: \n",
    "no trips in the past 4 weeks). Please list all features that you can think about and the \n",
    "data mining or machine learning model or other methods you may use for this case.**"
   ]
  },
  {
   "cell_type": "markdown",
   "id": "90b6b5bd",
   "metadata": {},
   "source": [
    "The following features have the potential to aid in predicting churn:\n",
    "- trips over the last 4 weeks\n",
    "- average ticket over the last 8 weeks\n",
    "- user feedback\n",
    "- usage frequency\n",
    "- promotional interactions\n",
    "- time on the app\n",
    "- price from the market\n",
    "- quality of service\n",
    "- criminal index \n",
    "- bad news related with the app"
   ]
  },
  {
   "cell_type": "code",
   "execution_count": null,
   "id": "10ed2861",
   "metadata": {},
   "outputs": [],
   "source": []
  }
 ],
 "metadata": {
  "kernelspec": {
   "display_name": "Python 3 (ipykernel)",
   "language": "python",
   "name": "python3"
  },
  "language_info": {
   "codemirror_mode": {
    "name": "ipython",
    "version": 3
   },
   "file_extension": ".py",
   "mimetype": "text/x-python",
   "name": "python",
   "nbconvert_exporter": "python",
   "pygments_lexer": "ipython3",
   "version": "3.9.6"
  }
 },
 "nbformat": 4,
 "nbformat_minor": 5
}
