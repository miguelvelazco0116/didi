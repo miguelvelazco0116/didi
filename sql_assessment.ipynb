{
 "cells": [
  {
   "cell_type": "markdown",
   "id": "40a53d68",
   "metadata": {},
   "source": [
    "- packages"
   ]
  },
  {
   "cell_type": "code",
   "execution_count": 1,
   "id": "05c7e3e3",
   "metadata": {},
   "outputs": [],
   "source": [
    "# general\n",
    "import psycopg2\n",
    "import pandas as pd\n",
    "from sqlalchemy import create_engine\n",
    "import os, yaml, requests, re, string, random\n",
    "import numpy as np"
   ]
  },
  {
   "cell_type": "markdown",
   "id": "2841b2c6",
   "metadata": {},
   "source": [
    "- functions"
   ]
  },
  {
   "cell_type": "code",
   "execution_count": 2,
   "id": "4522111f",
   "metadata": {},
   "outputs": [],
   "source": [
    "def read_yaml_file(yaml_file):\n",
    "    \"\"\" load yaml cofigurations \"\"\"\n",
    "\n",
    "    config = None\n",
    "    try:\n",
    "        with open(yaml_file, 'r') as f:\n",
    "            config = yaml.safe_load(f)\n",
    "    except:\n",
    "        raise FileNotFoundError('Couldnt load the file')\n",
    "\n",
    "    return config\n",
    "\n",
    "\n",
    "def get_db_conn_post(creds_file):\n",
    "    \"\"\" Get an authenticated psycopg db connection, given a credentials file\"\"\"\n",
    "    creds = read_yaml_file(creds_file)['db']\n",
    "\n",
    "    connection = psycopg2.connect(\n",
    "        user=creds['user'],\n",
    "        password=creds['pass'],\n",
    "        host=creds['host'],\n",
    "        port=creds['port'],\n",
    "        database=creds['db']\n",
    "    )\n",
    "\n",
    "    return connection"
   ]
  },
  {
   "cell_type": "markdown",
   "id": "30d93c74",
   "metadata": {},
   "source": [
    "- set up the connection to the database"
   ]
  },
  {
   "cell_type": "code",
   "execution_count": 3,
   "id": "cea17b88",
   "metadata": {},
   "outputs": [],
   "source": [
    "db_conn_post = get_db_conn_post(\"key_postgresql.yaml\")"
   ]
  },
  {
   "cell_type": "markdown",
   "id": "2ac5e960",
   "metadata": {},
   "source": [
    "- **Write the SQL queries necessary to generate a list of the five restaurants that have the highest average number of visitors on holidays. The result table should also contain that average per restaurant.**"
   ]
  },
  {
   "cell_type": "code",
   "execution_count": 4,
   "id": "f03855ca",
   "metadata": {},
   "outputs": [],
   "source": [
    "q = \"\"\"\n",
    "    select \n",
    "            a.id as restaurant, \n",
    "            avg(a.reserve_visitors) as avg_visitors\n",
    "    from\n",
    "            kaggle_data.didi.restaurants_visitors as a\n",
    "    left join \n",
    "            kaggle_data.didi.date_info as b\n",
    "    on\n",
    "            a.visit_date = b.calendar_date\n",
    "    where \n",
    "            b.holiday_flg = 1\n",
    "    group by  \n",
    "            a.id\n",
    "    order by\n",
    "            avg_visitors desc\n",
    "    limit \n",
    "            5;        \n",
    "\"\"\""
   ]
  },
  {
   "cell_type": "code",
   "execution_count": 5,
   "id": "9a3597a8",
   "metadata": {
    "scrolled": true
   },
   "outputs": [
    {
     "name": "stderr",
     "output_type": "stream",
     "text": [
      "C:\\Users\\migue\\AppData\\Local\\Temp/ipykernel_6716/2549109559.py:1: UserWarning: pandas only supports SQLAlchemy connectable (engine/connection) or database string URI or sqlite3 DBAPI2 connection. Other DBAPI2 objects are not tested. Please consider using SQLAlchemy.\n",
      "  pd.read_sql(sql = q, con = db_conn_post)\n"
     ]
    },
    {
     "data": {
      "text/html": [
       "<div>\n",
       "<style scoped>\n",
       "    .dataframe tbody tr th:only-of-type {\n",
       "        vertical-align: middle;\n",
       "    }\n",
       "\n",
       "    .dataframe tbody tr th {\n",
       "        vertical-align: top;\n",
       "    }\n",
       "\n",
       "    .dataframe thead th {\n",
       "        text-align: right;\n",
       "    }\n",
       "</style>\n",
       "<table border=\"1\" class=\"dataframe\">\n",
       "  <thead>\n",
       "    <tr style=\"text-align: right;\">\n",
       "      <th></th>\n",
       "      <th>restaurant</th>\n",
       "      <th>avg_visitors</th>\n",
       "    </tr>\n",
       "  </thead>\n",
       "  <tbody>\n",
       "    <tr>\n",
       "      <th>0</th>\n",
       "      <td>e89735e80d614a7e</td>\n",
       "      <td>8.500000</td>\n",
       "    </tr>\n",
       "    <tr>\n",
       "      <th>1</th>\n",
       "      <td>db80363d35f10926</td>\n",
       "      <td>6.904110</td>\n",
       "    </tr>\n",
       "    <tr>\n",
       "      <th>2</th>\n",
       "      <td>bcce1ea4350b7b72</td>\n",
       "      <td>5.500000</td>\n",
       "    </tr>\n",
       "    <tr>\n",
       "      <th>3</th>\n",
       "      <td>e053c561f32acc28</td>\n",
       "      <td>5.184615</td>\n",
       "    </tr>\n",
       "    <tr>\n",
       "      <th>4</th>\n",
       "      <td>bb09595bab7d5cfb</td>\n",
       "      <td>5.142857</td>\n",
       "    </tr>\n",
       "  </tbody>\n",
       "</table>\n",
       "</div>"
      ],
      "text/plain": [
       "         restaurant  avg_visitors\n",
       "0  e89735e80d614a7e      8.500000\n",
       "1  db80363d35f10926      6.904110\n",
       "2  bcce1ea4350b7b72      5.500000\n",
       "3  e053c561f32acc28      5.184615\n",
       "4  bb09595bab7d5cfb      5.142857"
      ]
     },
     "execution_count": 5,
     "metadata": {},
     "output_type": "execute_result"
    }
   ],
   "source": [
    "pd.read_sql(sql = q, con = db_conn_post)"
   ]
  },
  {
   "cell_type": "markdown",
   "id": "5a256a91",
   "metadata": {},
   "source": [
    "- **Use SQL to discover which day of the week there are usually more visitors on average in restaurants.**"
   ]
  },
  {
   "cell_type": "code",
   "execution_count": 6,
   "id": "83c23ff0",
   "metadata": {},
   "outputs": [],
   "source": [
    "q = \"\"\"\n",
    "    select\n",
    "            round(avg(a.reserve_visitors), 2) as avg_visitors, b.day_of_week \n",
    "    from\n",
    "            kaggle_data.didi.restaurants_visitors as a\n",
    "    left join\n",
    "            kaggle_data.didi.date_info as b\n",
    "    on\n",
    "            a.visit_date = b.calendar_date\n",
    "    group by \n",
    "            b.day_of_week \n",
    "    order by \n",
    "            avg_visitors desc;\n",
    "\"\"\""
   ]
  },
  {
   "cell_type": "code",
   "execution_count": 7,
   "id": "a50953bd",
   "metadata": {},
   "outputs": [
    {
     "name": "stderr",
     "output_type": "stream",
     "text": [
      "C:\\Users\\migue\\AppData\\Local\\Temp/ipykernel_6716/2549109559.py:1: UserWarning: pandas only supports SQLAlchemy connectable (engine/connection) or database string URI or sqlite3 DBAPI2 connection. Other DBAPI2 objects are not tested. Please consider using SQLAlchemy.\n",
      "  pd.read_sql(sql = q, con = db_conn_post)\n"
     ]
    },
    {
     "data": {
      "text/html": [
       "<div>\n",
       "<style scoped>\n",
       "    .dataframe tbody tr th:only-of-type {\n",
       "        vertical-align: middle;\n",
       "    }\n",
       "\n",
       "    .dataframe tbody tr th {\n",
       "        vertical-align: top;\n",
       "    }\n",
       "\n",
       "    .dataframe thead th {\n",
       "        text-align: right;\n",
       "    }\n",
       "</style>\n",
       "<table border=\"1\" class=\"dataframe\">\n",
       "  <thead>\n",
       "    <tr style=\"text-align: right;\">\n",
       "      <th></th>\n",
       "      <th>avg_visitors</th>\n",
       "      <th>day_of_week</th>\n",
       "    </tr>\n",
       "  </thead>\n",
       "  <tbody>\n",
       "    <tr>\n",
       "      <th>0</th>\n",
       "      <td>4.31</td>\n",
       "      <td>Friday</td>\n",
       "    </tr>\n",
       "    <tr>\n",
       "      <th>1</th>\n",
       "      <td>4.19</td>\n",
       "      <td>Wednesday</td>\n",
       "    </tr>\n",
       "    <tr>\n",
       "      <th>2</th>\n",
       "      <td>4.19</td>\n",
       "      <td>Thursday</td>\n",
       "    </tr>\n",
       "    <tr>\n",
       "      <th>3</th>\n",
       "      <td>4.11</td>\n",
       "      <td>Tuesday</td>\n",
       "    </tr>\n",
       "    <tr>\n",
       "      <th>4</th>\n",
       "      <td>4.03</td>\n",
       "      <td>Monday</td>\n",
       "    </tr>\n",
       "    <tr>\n",
       "      <th>5</th>\n",
       "      <td>3.94</td>\n",
       "      <td>Saturday</td>\n",
       "    </tr>\n",
       "    <tr>\n",
       "      <th>6</th>\n",
       "      <td>3.41</td>\n",
       "      <td>Sunday</td>\n",
       "    </tr>\n",
       "  </tbody>\n",
       "</table>\n",
       "</div>"
      ],
      "text/plain": [
       "   avg_visitors day_of_week\n",
       "0          4.31      Friday\n",
       "1          4.19   Wednesday\n",
       "2          4.19    Thursday\n",
       "3          4.11     Tuesday\n",
       "4          4.03      Monday\n",
       "5          3.94    Saturday\n",
       "6          3.41      Sunday"
      ]
     },
     "execution_count": 7,
     "metadata": {},
     "output_type": "execute_result"
    }
   ],
   "source": [
    "pd.read_sql(sql = q, con = db_conn_post)"
   ]
  },
  {
   "cell_type": "markdown",
   "id": "2aaf6c35",
   "metadata": {},
   "source": [
    "now we try another method (pandas)"
   ]
  },
  {
   "cell_type": "code",
   "execution_count": 8,
   "id": "d9d838cd",
   "metadata": {},
   "outputs": [],
   "source": [
    "q = 'select * from kaggle_data.didi.restaurants_visitors;'"
   ]
  },
  {
   "cell_type": "code",
   "execution_count": 9,
   "id": "a4e73bff",
   "metadata": {},
   "outputs": [
    {
     "name": "stderr",
     "output_type": "stream",
     "text": [
      "C:\\Users\\migue\\AppData\\Local\\Temp/ipykernel_6716/356735535.py:1: UserWarning: pandas only supports SQLAlchemy connectable (engine/connection) or database string URI or sqlite3 DBAPI2 connection. Other DBAPI2 objects are not tested. Please consider using SQLAlchemy.\n",
      "  df = pd.read_sql(sql = q, con = db_conn_post)\n"
     ]
    }
   ],
   "source": [
    "df = pd.read_sql(sql = q, con = db_conn_post)"
   ]
  },
  {
   "cell_type": "code",
   "execution_count": 10,
   "id": "436cff8a",
   "metadata": {},
   "outputs": [
    {
     "data": {
      "text/html": [
       "<div>\n",
       "<style scoped>\n",
       "    .dataframe tbody tr th:only-of-type {\n",
       "        vertical-align: middle;\n",
       "    }\n",
       "\n",
       "    .dataframe tbody tr th {\n",
       "        vertical-align: top;\n",
       "    }\n",
       "\n",
       "    .dataframe thead th {\n",
       "        text-align: right;\n",
       "    }\n",
       "</style>\n",
       "<table border=\"1\" class=\"dataframe\">\n",
       "  <thead>\n",
       "    <tr style=\"text-align: right;\">\n",
       "      <th></th>\n",
       "      <th>id</th>\n",
       "      <th>visit_date</th>\n",
       "      <th>visit_datetime</th>\n",
       "      <th>reserve_datetime</th>\n",
       "      <th>reserve_visitors</th>\n",
       "    </tr>\n",
       "  </thead>\n",
       "  <tbody>\n",
       "    <tr>\n",
       "      <th>0</th>\n",
       "      <td>db80363d35f10926</td>\n",
       "      <td>2016-01-01</td>\n",
       "      <td>2016-01-01</td>\n",
       "      <td>2016-01-01 01:00:00</td>\n",
       "      <td>5</td>\n",
       "    </tr>\n",
       "  </tbody>\n",
       "</table>\n",
       "</div>"
      ],
      "text/plain": [
       "                 id visit_date visit_datetime    reserve_datetime  \\\n",
       "0  db80363d35f10926 2016-01-01     2016-01-01 2016-01-01 01:00:00   \n",
       "\n",
       "   reserve_visitors  \n",
       "0                 5  "
      ]
     },
     "execution_count": 10,
     "metadata": {},
     "output_type": "execute_result"
    }
   ],
   "source": [
    "df.head(1)"
   ]
  },
  {
   "cell_type": "code",
   "execution_count": 11,
   "id": "b70e4667",
   "metadata": {},
   "outputs": [],
   "source": [
    "df['day_of_week'] = df['visit_date'].dt.day_name()"
   ]
  },
  {
   "cell_type": "code",
   "execution_count": 12,
   "id": "a0972de3",
   "metadata": {},
   "outputs": [
    {
     "data": {
      "text/html": [
       "<div>\n",
       "<style scoped>\n",
       "    .dataframe tbody tr th:only-of-type {\n",
       "        vertical-align: middle;\n",
       "    }\n",
       "\n",
       "    .dataframe tbody tr th {\n",
       "        vertical-align: top;\n",
       "    }\n",
       "\n",
       "    .dataframe thead th {\n",
       "        text-align: right;\n",
       "    }\n",
       "</style>\n",
       "<table border=\"1\" class=\"dataframe\">\n",
       "  <thead>\n",
       "    <tr style=\"text-align: right;\">\n",
       "      <th></th>\n",
       "      <th>id</th>\n",
       "      <th>visit_date</th>\n",
       "      <th>visit_datetime</th>\n",
       "      <th>reserve_datetime</th>\n",
       "      <th>reserve_visitors</th>\n",
       "      <th>day_of_week</th>\n",
       "    </tr>\n",
       "  </thead>\n",
       "  <tbody>\n",
       "    <tr>\n",
       "      <th>0</th>\n",
       "      <td>db80363d35f10926</td>\n",
       "      <td>2016-01-01</td>\n",
       "      <td>2016-01-01</td>\n",
       "      <td>2016-01-01 01:00:00</td>\n",
       "      <td>5</td>\n",
       "      <td>Friday</td>\n",
       "    </tr>\n",
       "  </tbody>\n",
       "</table>\n",
       "</div>"
      ],
      "text/plain": [
       "                 id visit_date visit_datetime    reserve_datetime  \\\n",
       "0  db80363d35f10926 2016-01-01     2016-01-01 2016-01-01 01:00:00   \n",
       "\n",
       "   reserve_visitors day_of_week  \n",
       "0                 5      Friday  "
      ]
     },
     "execution_count": 12,
     "metadata": {},
     "output_type": "execute_result"
    }
   ],
   "source": [
    "df.head(1)"
   ]
  },
  {
   "cell_type": "markdown",
   "id": "e6af7e67",
   "metadata": {},
   "source": [
    "now with the name of the day, we can obtain the data without missing values"
   ]
  },
  {
   "cell_type": "code",
   "execution_count": 13,
   "id": "24889d8d",
   "metadata": {},
   "outputs": [
    {
     "data": {
      "text/html": [
       "<div>\n",
       "<style scoped>\n",
       "    .dataframe tbody tr th:only-of-type {\n",
       "        vertical-align: middle;\n",
       "    }\n",
       "\n",
       "    .dataframe tbody tr th {\n",
       "        vertical-align: top;\n",
       "    }\n",
       "\n",
       "    .dataframe thead th {\n",
       "        text-align: right;\n",
       "    }\n",
       "</style>\n",
       "<table border=\"1\" class=\"dataframe\">\n",
       "  <thead>\n",
       "    <tr style=\"text-align: right;\">\n",
       "      <th></th>\n",
       "      <th>day_of_week</th>\n",
       "      <th>reserve_visitors</th>\n",
       "    </tr>\n",
       "  </thead>\n",
       "  <tbody>\n",
       "    <tr>\n",
       "      <th>0</th>\n",
       "      <td>Friday</td>\n",
       "      <td>4.311475</td>\n",
       "    </tr>\n",
       "    <tr>\n",
       "      <th>6</th>\n",
       "      <td>Wednesday</td>\n",
       "      <td>4.190618</td>\n",
       "    </tr>\n",
       "    <tr>\n",
       "      <th>4</th>\n",
       "      <td>Thursday</td>\n",
       "      <td>4.185874</td>\n",
       "    </tr>\n",
       "    <tr>\n",
       "      <th>5</th>\n",
       "      <td>Tuesday</td>\n",
       "      <td>4.108614</td>\n",
       "    </tr>\n",
       "    <tr>\n",
       "      <th>1</th>\n",
       "      <td>Monday</td>\n",
       "      <td>4.032590</td>\n",
       "    </tr>\n",
       "    <tr>\n",
       "      <th>2</th>\n",
       "      <td>Saturday</td>\n",
       "      <td>3.939041</td>\n",
       "    </tr>\n",
       "    <tr>\n",
       "      <th>3</th>\n",
       "      <td>Sunday</td>\n",
       "      <td>3.410092</td>\n",
       "    </tr>\n",
       "  </tbody>\n",
       "</table>\n",
       "</div>"
      ],
      "text/plain": [
       "  day_of_week  reserve_visitors\n",
       "0      Friday          4.311475\n",
       "6   Wednesday          4.190618\n",
       "4    Thursday          4.185874\n",
       "5     Tuesday          4.108614\n",
       "1      Monday          4.032590\n",
       "2    Saturday          3.939041\n",
       "3      Sunday          3.410092"
      ]
     },
     "execution_count": 13,
     "metadata": {},
     "output_type": "execute_result"
    }
   ],
   "source": [
    "columns = ['reserve_visitors', 'day_of_week']\n",
    "df[columns]\\\n",
    ".groupby(by = 'day_of_week', as_index = False)\\\n",
    ".agg('mean')\\\n",
    ".sort_values(by = 'reserve_visitors', ascending = False)"
   ]
  },
  {
   "cell_type": "markdown",
   "id": "2ce36651",
   "metadata": {},
   "source": [
    "- **How was the percentage of growth of the amount of visitors week over week for the last four weeks of the data?**"
   ]
  },
  {
   "cell_type": "code",
   "execution_count": 14,
   "id": "d5cf9f9b",
   "metadata": {},
   "outputs": [],
   "source": [
    "q = \"\"\"\n",
    "with visitors as(\n",
    "    select \n",
    "            extract(year from visit_date) as year_data,\n",
    "            extract(month from visit_date) as month_data,\n",
    "            extract(week from visit_date) as week_data,\n",
    "            sum(reserve_visitors) as cu_data\n",
    "    from \n",
    "            kaggle_data.didi.restaurants_visitors as rv\n",
    "    group by \n",
    "            year_data, month_data, week_data\n",
    "    )\n",
    "    select \n",
    "            year_data as year, \n",
    "            month_data as month, \n",
    "            week_data + 1 as week_of_year,\n",
    "            round((lag(cu_data) over (order by year_data desc, month_data desc, week_data desc) - cu_data) / cu_data, 3) * 100 as pct_variation\n",
    "    from \n",
    "            visitors\n",
    "    order by \n",
    "            year_data desc, month_data desc, week_data desc;\n",
    "\"\"\""
   ]
  },
  {
   "cell_type": "code",
   "execution_count": 15,
   "id": "2a3d82f9",
   "metadata": {},
   "outputs": [
    {
     "name": "stderr",
     "output_type": "stream",
     "text": [
      "C:\\Users\\migue\\AppData\\Local\\Temp/ipykernel_6716/2549109559.py:1: UserWarning: pandas only supports SQLAlchemy connectable (engine/connection) or database string URI or sqlite3 DBAPI2 connection. Other DBAPI2 objects are not tested. Please consider using SQLAlchemy.\n",
      "  pd.read_sql(sql = q, con = db_conn_post)\n"
     ]
    },
    {
     "data": {
      "text/html": [
       "<div>\n",
       "<style scoped>\n",
       "    .dataframe tbody tr th:only-of-type {\n",
       "        vertical-align: middle;\n",
       "    }\n",
       "\n",
       "    .dataframe tbody tr th {\n",
       "        vertical-align: top;\n",
       "    }\n",
       "\n",
       "    .dataframe thead th {\n",
       "        text-align: right;\n",
       "    }\n",
       "</style>\n",
       "<table border=\"1\" class=\"dataframe\">\n",
       "  <thead>\n",
       "    <tr style=\"text-align: right;\">\n",
       "      <th></th>\n",
       "      <th>year</th>\n",
       "      <th>month</th>\n",
       "      <th>week_of_year</th>\n",
       "      <th>pct_variation</th>\n",
       "    </tr>\n",
       "  </thead>\n",
       "  <tbody>\n",
       "    <tr>\n",
       "      <th>0</th>\n",
       "      <td>2017.0</td>\n",
       "      <td>5.0</td>\n",
       "      <td>23.0</td>\n",
       "      <td>NaN</td>\n",
       "    </tr>\n",
       "    <tr>\n",
       "      <th>1</th>\n",
       "      <td>2017.0</td>\n",
       "      <td>5.0</td>\n",
       "      <td>22.0</td>\n",
       "      <td>-82.5</td>\n",
       "    </tr>\n",
       "    <tr>\n",
       "      <th>2</th>\n",
       "      <td>2017.0</td>\n",
       "      <td>5.0</td>\n",
       "      <td>21.0</td>\n",
       "      <td>-19.2</td>\n",
       "    </tr>\n",
       "    <tr>\n",
       "      <th>3</th>\n",
       "      <td>2017.0</td>\n",
       "      <td>5.0</td>\n",
       "      <td>20.0</td>\n",
       "      <td>-54.1</td>\n",
       "    </tr>\n",
       "    <tr>\n",
       "      <th>4</th>\n",
       "      <td>2017.0</td>\n",
       "      <td>5.0</td>\n",
       "      <td>19.0</td>\n",
       "      <td>30.8</td>\n",
       "    </tr>\n",
       "    <tr>\n",
       "      <th>...</th>\n",
       "      <td>...</td>\n",
       "      <td>...</td>\n",
       "      <td>...</td>\n",
       "      <td>...</td>\n",
       "    </tr>\n",
       "    <tr>\n",
       "      <th>70</th>\n",
       "      <td>2016.0</td>\n",
       "      <td>1.0</td>\n",
       "      <td>54.0</td>\n",
       "      <td>280.4</td>\n",
       "    </tr>\n",
       "    <tr>\n",
       "      <th>71</th>\n",
       "      <td>2016.0</td>\n",
       "      <td>1.0</td>\n",
       "      <td>5.0</td>\n",
       "      <td>-72.5</td>\n",
       "    </tr>\n",
       "    <tr>\n",
       "      <th>72</th>\n",
       "      <td>2016.0</td>\n",
       "      <td>1.0</td>\n",
       "      <td>4.0</td>\n",
       "      <td>-23.3</td>\n",
       "    </tr>\n",
       "    <tr>\n",
       "      <th>73</th>\n",
       "      <td>2016.0</td>\n",
       "      <td>1.0</td>\n",
       "      <td>3.0</td>\n",
       "      <td>15.7</td>\n",
       "    </tr>\n",
       "    <tr>\n",
       "      <th>74</th>\n",
       "      <td>2016.0</td>\n",
       "      <td>1.0</td>\n",
       "      <td>2.0</td>\n",
       "      <td>53.3</td>\n",
       "    </tr>\n",
       "  </tbody>\n",
       "</table>\n",
       "<p>75 rows × 4 columns</p>\n",
       "</div>"
      ],
      "text/plain": [
       "      year  month  week_of_year  pct_variation\n",
       "0   2017.0    5.0          23.0            NaN\n",
       "1   2017.0    5.0          22.0          -82.5\n",
       "2   2017.0    5.0          21.0          -19.2\n",
       "3   2017.0    5.0          20.0          -54.1\n",
       "4   2017.0    5.0          19.0           30.8\n",
       "..     ...    ...           ...            ...\n",
       "70  2016.0    1.0          54.0          280.4\n",
       "71  2016.0    1.0           5.0          -72.5\n",
       "72  2016.0    1.0           4.0          -23.3\n",
       "73  2016.0    1.0           3.0           15.7\n",
       "74  2016.0    1.0           2.0           53.3\n",
       "\n",
       "[75 rows x 4 columns]"
      ]
     },
     "execution_count": 15,
     "metadata": {},
     "output_type": "execute_result"
    }
   ],
   "source": [
    "pd.read_sql(sql = q, con = db_conn_post)"
   ]
  }
 ],
 "metadata": {
  "kernelspec": {
   "display_name": "Python 3 (ipykernel)",
   "language": "python",
   "name": "python3"
  },
  "language_info": {
   "codemirror_mode": {
    "name": "ipython",
    "version": 3
   },
   "file_extension": ".py",
   "mimetype": "text/x-python",
   "name": "python",
   "nbconvert_exporter": "python",
   "pygments_lexer": "ipython3",
   "version": "3.9.6"
  }
 },
 "nbformat": 4,
 "nbformat_minor": 5
}
